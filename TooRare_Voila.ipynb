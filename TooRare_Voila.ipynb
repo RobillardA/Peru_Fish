{
 "cells": [
  {
   "cell_type": "code",
   "execution_count": 9,
   "id": "prime-savannah",
   "metadata": {},
   "outputs": [],
   "source": [
    "from fastai.vision.all import *\n",
    "from fastai.vision.widgets import *\n",
    "import urllib.request\n",
    "import pickle\n",
    "import wget\n",
    "from ipywidgets import *\n",
    "from voila import *"
   ]
  },
  {
   "cell_type": "code",
   "execution_count": null,
   "id": "wicked-rental",
   "metadata": {},
   "outputs": [],
   "source": [
    "! wget "https://www.dropbox.com//s//l1gz36zdrscbpy5//TooRare2Wear.pkl?dl=1" -O TooRare2Wear.pkl"
   ]
  },
  {
   "cell_type": "markdown",
   "id": "genetic-dress",
   "metadata": {},
   "source": [
    "SEE Turtles Image Classifier\n",
    "\n",
    "You need to know whether you're possibly going to be purchasing an item made from REAL Hawksbill Sea Turtle? Then you've come to the right place. Take a picture of the potentially illegal item, and click 'upload' to classify it."
   ]
  },
  {
   "cell_type": "code",
   "execution_count": 10,
   "id": "stable-companion",
   "metadata": {},
   "outputs": [],
   "source": [
    "#pickle.load(export_file_url)\n",
    "export_file_name = 'TooRare2Wear.pkl'\n",
    "path = Path()\n",
    "learn_inf = load_learner(export_file_name, cpu=True)\n",
    "btn_upload = widgets.FileUpload()\n",
    "out_pl = widgets.Output()\n",
    "lbl_pred = widgets.Label()"
   ]
  },
  {
   "cell_type": "code",
   "execution_count": 11,
   "id": "packed-barrel",
   "metadata": {},
   "outputs": [],
   "source": [
    "def on_data_change(change):\n",
    "    lbl_pred.value = ''\n",
    "    img = PILImage.create(btn_upload.data[-1])\n",
    "    out_pl.clear_output()\n",
    "    with out_pl: display(img.to_thumb(128,128))\n",
    "    pred,pred_idx,probs = learn_inf.predict(img)\n",
    "    lbl_pred.value = f'Prediction: {pred}; Probability: {probs[pred_idx]:.04f}'"
   ]
  },
  {
   "cell_type": "code",
   "execution_count": 12,
   "id": "becoming-composition",
   "metadata": {},
   "outputs": [],
   "source": [
    "btn_upload.observe(on_data_change, names=['data'])"
   ]
  },
  {
   "cell_type": "code",
   "execution_count": 13,
   "id": "annoying-sleep",
   "metadata": {},
   "outputs": [
    {
     "data": {
      "application/vnd.jupyter.widget-view+json": {
       "model_id": "54ff0a2e2f7e455b9b31b6b1982b2b44",
       "version_major": 2,
       "version_minor": 0
      },
      "text/plain": [
       "VBox(children=(Label(value='Select your item!'), FileUpload(value={}, description='Upload'), Output(), Label(v…"
      ]
     },
     "metadata": {},
     "output_type": "display_data"
    }
   ],
   "source": [
    "display(VBox([widgets.Label('Select your item!'), btn_upload, out_pl, lbl_pred]))"
   ]
  },
  {
   "cell_type": "code",
   "execution_count": null,
   "id": "lucky-connecticut",
   "metadata": {},
   "outputs": [],
   "source": []
  },
  {
   "cell_type": "code",
   "execution_count": null,
   "id": "special-strike",
   "metadata": {},
   "outputs": [],
   "source": []
  },
  {
   "cell_type": "code",
   "execution_count": null,
   "id": "nonprofit-backup",
   "metadata": {},
   "outputs": [],
   "source": []
  },
  {
   "cell_type": "code",
   "execution_count": null,
   "id": "7ab26c5f",
   "metadata": {},
   "outputs": [],
   "source": []
  },
  {
   "cell_type": "code",
   "execution_count": null,
   "id": "7ca0f9cf",
   "metadata": {},
   "outputs": [],
   "source": []
  },
  {
   "cell_type": "code",
   "execution_count": null,
   "id": "a777342c",
   "metadata": {},
   "outputs": [],
   "source": [
    "#Old Upload Methods\n",
    "#pickle.load(urllib.request.urlopen('https://drive.google.com/file/d/1eZsOIHAVRO_gFfQ92TIm_BblrU3dPXtO/view?usp=sharing'))\n",
    "#export_file_url = \n",
    "#export_file_name =                                     \n",
    "#export_file_url = urllib.request.urlopen('https://drive.google.com/file/d/1eZsOIHAVRO_gFfQ92TIm_BblrU3dPXtO/view?usp=sharing')"
   ]
  }
 ],
 "metadata": {
  "kernelspec": {
   "display_name": "Python 3",
   "language": "python",
   "name": "python3"
  },
  "language_info": {
   "codemirror_mode": {
    "name": "ipython",
    "version": 3
   },
   "file_extension": ".py",
   "mimetype": "text/x-python",
   "name": "python",
   "nbconvert_exporter": "python",
   "pygments_lexer": "ipython3",
   "version": "3.6.13"
  }
 },
 "nbformat": 4,
 "nbformat_minor": 5
}
